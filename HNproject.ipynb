{
 "cells": [
  {
   "cell_type": "markdown",
   "metadata": {},
   "source": [
    "# Hacker News\n",
    "We are looking at a dataset for the website Hacker News. Our primary interest is in the number of comments posts receive, and when the comments are made. In order to determine the best time to create a post to receive the most comments which relates to the total number of views.  \n",
    "The dataset is a modified version of [Hacker News Posts](https://www.kaggle.com/hacker-news/hacker-news-posts?select=HN_posts_year_to_Sep_26_2016.csv) from Kaggle."
   ]
  },
  {
   "cell_type": "code",
   "execution_count": 8,
   "metadata": {},
   "outputs": [
    {
     "name": "stdout",
     "output_type": "stream",
     "text": [
      "-Column names for dataset-\n",
      "0 id\n",
      "1 title\n",
      "2 url\n",
      "3 num_points\n",
      "4 num_comments\n",
      "5 author\n",
      "6 created_at\n"
     ]
    }
   ],
   "source": [
    "# Open the file and create our raw dataset.\n",
    "import csv\n",
    "opened_file = ''\n",
    "with open('hacker_news.csv') as f:\n",
    "    read_file = csv.reader(f)\n",
    "    raw_data = [row for row in read_file]\n",
    "header = raw_data[0]\n",
    "raw_data = raw_data[1:]\n",
    "print('-Column names for dataset-')\n",
    "for i, col in enumerate(header):\n",
    "    print(i, col)"
   ]
  },
  {
   "cell_type": "code",
   "execution_count": 2,
   "metadata": {},
   "outputs": [],
   "source": [
    "def explorer(dataset, start, stop, totals=True):\n",
    "    for row in dataset[start:stop]:\n",
    "        print(row)\n",
    "    if totals:\n",
    "        rows = len(dataset)\n",
    "        cols = len(dataset[0])\n",
    "    print(f'rows: {rows} x cols: {cols}')"
   ]
  },
  {
   "cell_type": "code",
   "execution_count": 9,
   "metadata": {},
   "outputs": [
    {
     "name": "stdout",
     "output_type": "stream",
     "text": [
      "['12224879', 'Interactive Dynamic Video', 'http://www.interactivedynamicvideo.com/', '386', '52', 'ne0phyte', '8/4/2016 11:52']\n",
      "['10975351', 'How to Use Open Source and Shut the Fuck Up at the Same Time', 'http://hueniverse.com/2016/01/26/how-to-use-open-source-and-shut-the-fuck-up-at-the-same-time/', '39', '10', 'josep2', '1/26/2016 19:30']\n",
      "['11964716', \"Florida DJs May Face Felony for April Fools' Water Joke\", 'http://www.thewire.com/entertainment/2013/04/florida-djs-april-fools-water-joke/63798/', '2', '1', 'vezycash', '6/23/2016 22:20']\n",
      "['11919867', 'Technology ventures: From Idea to Enterprise', 'https://www.amazon.com/Technology-Ventures-Enterprise-Thomas-Byers/dp/0073523429', '3', '1', 'hswarna', '6/17/2016 0:01']\n",
      "['10301696', 'Note by Note: The Making of Steinway L1037 (2007)', 'http://www.nytimes.com/2007/11/07/movies/07stein.html?_r=0', '8', '2', 'walterbell', '9/30/2015 4:12']\n",
      "rows: 20100 x cols: 7\n"
     ]
    }
   ],
   "source": [
    "explorer(raw_data, 0, 5)"
   ]
  },
  {
   "cell_type": "code",
   "execution_count": 11,
   "metadata": {},
   "outputs": [
    {
     "name": "stdout",
     "output_type": "stream",
     "text": [
      "Ask HN posts: 1744\n",
      "Show HN posts: 1162\n",
      "Other posts: 18938\n"
     ]
    }
   ],
   "source": [
    "ask_posts = []\n",
    "show_posts = []\n",
    "other_posts = []\n",
    "\n",
    "for row in raw_data:\n",
    "    title = row[1].lower()\n",
    "    if title.startswith('ask hn'):\n",
    "        ask_posts.append(row)\n",
    "    if title.startswith('show hn'):\n",
    "        show_posts.append(row)\n",
    "    else:\n",
    "        other_posts.append(row)\n",
    "        \n",
    "        \n",
    "print('Ask HN posts:', len(ask_posts))\n",
    "print('Show HN posts:', len(show_posts))\n",
    "print('Other posts:', len(other_posts))"
   ]
  },
  {
   "cell_type": "markdown",
   "metadata": {},
   "source": [
    "Check the data in the show_posts set:"
   ]
  },
  {
   "cell_type": "code",
   "execution_count": 10,
   "metadata": {},
   "outputs": [
    {
     "name": "stdout",
     "output_type": "stream",
     "text": [
      "['10627194', 'Show HN: Wio Link  ESP8266 Based Web of Things Hardware Development Platform', 'https://iot.seeed.cc', '26', '22', 'kfihihc', '11/25/2015 14:03']\n",
      "['10646440', 'Show HN: Something pointless I made', 'http://dn.ht/picklecat/', '747', '102', 'dhotson', '11/29/2015 22:46']\n",
      "['11590768', 'Show HN: Shanhu.io, a programming playground powered by e8vm', 'https://shanhu.io', '1', '1', 'h8liu', '4/28/2016 18:05']\n",
      "['12178806', 'Show HN: Webscope  Easy way for web developers to communicate with Clients', 'http://webscopeapp.com', '3', '3', 'fastbrick', '7/28/2016 7:11']\n",
      "['10872799', 'Show HN: GeoScreenshot  Easily test Geo-IP based web pages', 'https://www.geoscreenshot.com/', '1', '9', 'kpsychwave', '1/9/2016 20:45']\n",
      "rows: 1162 x cols: 7\n"
     ]
    }
   ],
   "source": [
    "explorer(show_posts, 0, 5)"
   ]
  },
  {
   "cell_type": "markdown",
   "metadata": {},
   "source": [
    "### Average comments by post type\n",
    "On average the Ask HN posts receive 4 more comments per post over the Show HN posts."
   ]
  },
  {
   "cell_type": "code",
   "execution_count": 6,
   "metadata": {},
   "outputs": [
    {
     "name": "stdout",
     "output_type": "stream",
     "text": [
      "Average number of comments per post:\n",
      "ask HN: 14\n",
      "show HN: 10\n",
      "other: 25\n"
     ]
    }
   ],
   "source": [
    "def get_comment_info(dataset, index=4):\n",
    "    total = 0\n",
    "    for row in dataset:\n",
    "        num_comments = int(row[index])\n",
    "        total += num_comments\n",
    "    print(int(total/len(dataset)))\n",
    "    return total\n",
    "\n",
    "print('Average number of comments per post:')\n",
    "print('ask HN: ', end='')\n",
    "total_ask = get_comment_info(ask_posts)\n",
    "print('show HN: ', end='')\n",
    "total_show = get_comment_info(show_posts)\n",
    "print('other: ', end='')\n",
    "total_other = get_comment_info(other_posts)\n",
    "\n",
    "    "
   ]
  },
  {
   "cell_type": "markdown",
   "metadata": {},
   "source": [
    "## Hourly breakdown of average comments per post"
   ]
  },
  {
   "cell_type": "code",
   "execution_count": 7,
   "metadata": {},
   "outputs": [
    {
     "name": "stdout",
     "output_type": "stream",
     "text": [
      "-Top 5 hours for Ask HN posts-\n",
      "15:00: 38.59 average comments per post\n",
      "02:00: 23.81 average comments per post\n",
      "20:00: 21.52 average comments per post\n",
      "16:00: 16.80 average comments per post\n",
      "21:00: 16.01 average comments per post\n"
     ]
    }
   ],
   "source": [
    "import datetime as dt\n",
    "result_list = []\n",
    "for post in ask_posts:\n",
    "    created_at = post[6]\n",
    "    n_comments = int(post[4])\n",
    "    result_list.append([created_at, n_comments])\n",
    "\n",
    "    # dicts for hourly calcs\n",
    "counts_by_hour = {}\n",
    "comments_by_hour = {}\n",
    "\n",
    "for i in result_list:\n",
    "    date_obj = dt.datetime.strptime(i[0], '%m/%d/%Y %H:%M')\n",
    "    hour = date_obj.strftime('%H')\n",
    "    i[0] = hour\n",
    "    if hour not in counts_by_hour:\n",
    "        counts_by_hour[hour] = 1\n",
    "        comments_by_hour[hour] = i[1]\n",
    "    else:\n",
    "        counts_by_hour[hour] += 1\n",
    "        comments_by_hour[hour] += i[1]\n",
    "\n",
    "avg_by_hour = []\n",
    "for k, v in counts_by_hour.items():\n",
    "    avg_by_hour.append([comments_by_hour[k]/counts_by_hour[k], k])\n",
    "avg_sorted = sorted(avg_by_hour, reverse=True)\n",
    "\n",
    "print('-Top 5 hours for Ask HN posts-')\n",
    "for i in avg_sorted[:5]:\n",
    "    avg_comments = f'{i[0]:.2f} average comments per post'\n",
    "    hrs = dt.datetime.strptime(i[1], '%H')\n",
    "    hrs = hrs.strftime('%H:%M')\n",
    "    print(f'{hrs}: {avg_comments}')\n"
   ]
  },
  {
   "cell_type": "markdown",
   "metadata": {},
   "source": [
    "## Optimal Time to Post Ask HackerNews?\n",
    "Based on the average comments per post during each hour, the best time would be __3:00 pm EST or 1:00 pm MST__."
   ]
  },
  {
   "cell_type": "code",
   "execution_count": null,
   "metadata": {},
   "outputs": [],
   "source": []
  }
 ],
 "metadata": {
  "kernelspec": {
   "display_name": "Python 3",
   "language": "python",
   "name": "python3"
  },
  "language_info": {
   "codemirror_mode": {
    "name": "ipython",
    "version": 3
   },
   "file_extension": ".py",
   "mimetype": "text/x-python",
   "name": "python",
   "nbconvert_exporter": "python",
   "pygments_lexer": "ipython3",
   "version": "3.8.3"
  }
 },
 "nbformat": 4,
 "nbformat_minor": 4
}
