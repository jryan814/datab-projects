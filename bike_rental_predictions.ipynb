{
 "cells": [
  {
   "cell_type": "markdown",
   "metadata": {},
   "source": [
    "# Predicting Hourly Bike Rentals\n",
    "Using a few different machine learning models, we will predict the number of bike rentals for a given hour. The efficacy of each model will be measured using Mean Squared Error. \n",
    "  \n",
    "The dataset can be downloaded from [The University of California, Irvine's site](http://archive.ics.uci.edu/ml/datasets/Bike+Sharing+Dataset). Hadi Fanaee-T at the University of Porto compiled this data into a CSV file."
   ]
  },
  {
   "cell_type": "code",
   "execution_count": 1,
   "metadata": {},
   "outputs": [
    {
     "data": {
      "text/html": [
       "<div>\n",
       "<style scoped>\n",
       "    .dataframe tbody tr th:only-of-type {\n",
       "        vertical-align: middle;\n",
       "    }\n",
       "\n",
       "    .dataframe tbody tr th {\n",
       "        vertical-align: top;\n",
       "    }\n",
       "\n",
       "    .dataframe thead th {\n",
       "        text-align: right;\n",
       "    }\n",
       "</style>\n",
       "<table border=\"1\" class=\"dataframe\">\n",
       "  <thead>\n",
       "    <tr style=\"text-align: right;\">\n",
       "      <th></th>\n",
       "      <th>instant</th>\n",
       "      <th>dteday</th>\n",
       "      <th>season</th>\n",
       "      <th>yr</th>\n",
       "      <th>mnth</th>\n",
       "      <th>hr</th>\n",
       "      <th>holiday</th>\n",
       "      <th>weekday</th>\n",
       "      <th>workingday</th>\n",
       "      <th>weathersit</th>\n",
       "      <th>temp</th>\n",
       "      <th>atemp</th>\n",
       "      <th>hum</th>\n",
       "      <th>windspeed</th>\n",
       "      <th>casual</th>\n",
       "      <th>registered</th>\n",
       "      <th>cnt</th>\n",
       "    </tr>\n",
       "  </thead>\n",
       "  <tbody>\n",
       "    <tr>\n",
       "      <th>0</th>\n",
       "      <td>1</td>\n",
       "      <td>2011-01-01</td>\n",
       "      <td>1</td>\n",
       "      <td>0</td>\n",
       "      <td>1</td>\n",
       "      <td>0</td>\n",
       "      <td>0</td>\n",
       "      <td>6</td>\n",
       "      <td>0</td>\n",
       "      <td>1</td>\n",
       "      <td>0.24</td>\n",
       "      <td>0.2879</td>\n",
       "      <td>0.81</td>\n",
       "      <td>0.0</td>\n",
       "      <td>3</td>\n",
       "      <td>13</td>\n",
       "      <td>16</td>\n",
       "    </tr>\n",
       "    <tr>\n",
       "      <th>1</th>\n",
       "      <td>2</td>\n",
       "      <td>2011-01-01</td>\n",
       "      <td>1</td>\n",
       "      <td>0</td>\n",
       "      <td>1</td>\n",
       "      <td>1</td>\n",
       "      <td>0</td>\n",
       "      <td>6</td>\n",
       "      <td>0</td>\n",
       "      <td>1</td>\n",
       "      <td>0.22</td>\n",
       "      <td>0.2727</td>\n",
       "      <td>0.80</td>\n",
       "      <td>0.0</td>\n",
       "      <td>8</td>\n",
       "      <td>32</td>\n",
       "      <td>40</td>\n",
       "    </tr>\n",
       "    <tr>\n",
       "      <th>2</th>\n",
       "      <td>3</td>\n",
       "      <td>2011-01-01</td>\n",
       "      <td>1</td>\n",
       "      <td>0</td>\n",
       "      <td>1</td>\n",
       "      <td>2</td>\n",
       "      <td>0</td>\n",
       "      <td>6</td>\n",
       "      <td>0</td>\n",
       "      <td>1</td>\n",
       "      <td>0.22</td>\n",
       "      <td>0.2727</td>\n",
       "      <td>0.80</td>\n",
       "      <td>0.0</td>\n",
       "      <td>5</td>\n",
       "      <td>27</td>\n",
       "      <td>32</td>\n",
       "    </tr>\n",
       "    <tr>\n",
       "      <th>3</th>\n",
       "      <td>4</td>\n",
       "      <td>2011-01-01</td>\n",
       "      <td>1</td>\n",
       "      <td>0</td>\n",
       "      <td>1</td>\n",
       "      <td>3</td>\n",
       "      <td>0</td>\n",
       "      <td>6</td>\n",
       "      <td>0</td>\n",
       "      <td>1</td>\n",
       "      <td>0.24</td>\n",
       "      <td>0.2879</td>\n",
       "      <td>0.75</td>\n",
       "      <td>0.0</td>\n",
       "      <td>3</td>\n",
       "      <td>10</td>\n",
       "      <td>13</td>\n",
       "    </tr>\n",
       "    <tr>\n",
       "      <th>4</th>\n",
       "      <td>5</td>\n",
       "      <td>2011-01-01</td>\n",
       "      <td>1</td>\n",
       "      <td>0</td>\n",
       "      <td>1</td>\n",
       "      <td>4</td>\n",
       "      <td>0</td>\n",
       "      <td>6</td>\n",
       "      <td>0</td>\n",
       "      <td>1</td>\n",
       "      <td>0.24</td>\n",
       "      <td>0.2879</td>\n",
       "      <td>0.75</td>\n",
       "      <td>0.0</td>\n",
       "      <td>0</td>\n",
       "      <td>1</td>\n",
       "      <td>1</td>\n",
       "    </tr>\n",
       "  </tbody>\n",
       "</table>\n",
       "</div>"
      ],
      "text/plain": [
       "   instant      dteday  season  yr  mnth  hr  holiday  weekday  workingday  \\\n",
       "0        1  2011-01-01       1   0     1   0        0        6           0   \n",
       "1        2  2011-01-01       1   0     1   1        0        6           0   \n",
       "2        3  2011-01-01       1   0     1   2        0        6           0   \n",
       "3        4  2011-01-01       1   0     1   3        0        6           0   \n",
       "4        5  2011-01-01       1   0     1   4        0        6           0   \n",
       "\n",
       "   weathersit  temp   atemp   hum  windspeed  casual  registered  cnt  \n",
       "0           1  0.24  0.2879  0.81        0.0       3          13   16  \n",
       "1           1  0.22  0.2727  0.80        0.0       8          32   40  \n",
       "2           1  0.22  0.2727  0.80        0.0       5          27   32  \n",
       "3           1  0.24  0.2879  0.75        0.0       3          10   13  \n",
       "4           1  0.24  0.2879  0.75        0.0       0           1    1  "
      ]
     },
     "execution_count": 1,
     "metadata": {},
     "output_type": "execute_result"
    }
   ],
   "source": [
    "import pandas as pd\n",
    "import matplotlib.pyplot as plt\n",
    "import seaborn as sns\n",
    "sns.set_style()\n",
    "\n",
    "df = pd.read_csv('bike_rental_hour.csv')\n",
    "df.head()"
   ]
  },
  {
   "cell_type": "code",
   "execution_count": 2,
   "metadata": {},
   "outputs": [
    {
     "data": {
      "image/png": "[encoded data removed]",
      "text/plain": [
       "<Figure size 432x288 with 1 Axes>"
      ]
     },
     "metadata": {
      "needs_background": "light"
     },
     "output_type": "display_data"
    }
   ],
   "source": [
    "sns.histplot(df['cnt']);"
   ]
  },
  {
   "cell_type": "code",
   "execution_count": 3,
   "metadata": {},
   "outputs": [
    {
     "data": {
      "text/plain": [
       "<AxesSubplot:xlabel='weathersit', ylabel='cnt'>"
      ]
     },
     "execution_count": 3,
     "metadata": {},
     "output_type": "execute_result"
    },
    {
     "data": {
      "image/png": "[encoded data removed]",
      "text/plain": [
       "<Figure size 432x288 with 1 Axes>"
      ]
     },
     "metadata": {
      "needs_background": "light"
     },
     "output_type": "display_data"
    }
   ],
   "source": [
    "sns.barplot(y='cnt', x='weathersit', data=df)"
   ]
  },
  {
   "cell_type": "code",
   "execution_count": 4,
   "metadata": {},
   "outputs": [],
   "source": [
    "def assign_time_labels(t):\n",
    "    '''\n",
    "    Engineers daypart feature based on time of day intervals.\n",
    "    For pd.Series.apply()\n",
    "    args :\n",
    "        t : (int) the hour of the day 0-23\n",
    "    returns :\n",
    "        each row of data\n",
    "    '''\n",
    "    if t > 20 or t < 5:\n",
    "        return 4\n",
    "    elif 5 <= t <= 11:\n",
    "        return 1\n",
    "    elif 11 < t <= 16:\n",
    "        return 2\n",
    "    else:\n",
    "        return 3\n",
    "    \n",
    "df['daypart'] = df['hr'].apply(assign_time_labels) "
   ]
  },
  {
   "cell_type": "code",
   "execution_count": 5,
   "metadata": {},
   "outputs": [
    {
     "data": {
      "image/png": "[encoded data removed]",
      "text/plain": [
       "<Figure size 864x576 with 2 Axes>"
      ]
     },
     "metadata": {
      "needs_background": "light"
     },
     "output_type": "display_data"
    }
   ],
   "source": [
    "corrs = abs(df.corr()[['cnt']])\n",
    "corrs = corrs.sort_values('cnt')\n",
    "plt.figure(figsize=(12,8))\n",
    "sns.heatmap(corrs)\n",
    "plt.title('Correlation to Number of Bike Rentals');"
   ]
  },
  {
   "cell_type": "code",
   "execution_count": 6,
   "metadata": {},
   "outputs": [],
   "source": [
    "from sklearn.linear_model import LinearRegression, LogisticRegression\n",
    "from sklearn.ensemble import RandomForestRegressor\n",
    "from sklearn.tree import DecisionTreeRegressor\n",
    "from sklearn.metrics import mean_squared_error, roc_auc_score, explained_variance_score\n",
    "from sklearn.model_selection import train_test_split, cross_val_score\n",
    "\n",
    "import numpy as np"
   ]
  },
  {
   "cell_type": "code",
   "execution_count": 7,
   "metadata": {},
   "outputs": [],
   "source": [
    "feature_cols = ['season', 'yr', 'mnth', 'hr', 'weekday', 'workingday', 'weathersit', 'temp', 'atemp', 'windspeed', 'daypart']"
   ]
  },
  {
   "cell_type": "code",
   "execution_count": 8,
   "metadata": {},
   "outputs": [],
   "source": [
    "X = df[feature_cols]\n",
    "y = df['cnt']\n",
    "X_train, X_test, y_train, y_test = train_test_split(X, y, test_size=0.4, random_state=5)"
   ]
  },
  {
   "cell_type": "code",
   "execution_count": 9,
   "metadata": {},
   "outputs": [],
   "source": [
    "class MLpipeline():\n",
    "    def __init__(self, X, y, model, auto=False, *args, **kwargs):\n",
    "        self.X = X\n",
    "        self.y = y\n",
    "        self.X_train, self.X_test, self.y_train, self.y_test = train_test_split(X, y, test_size=0.33, random_state=5)\n",
    "        self.model = model(**kwargs)\n",
    "        self.results = {}\n",
    "        if auto:\n",
    "            self.train(auto_test=True)\n",
    "    \n",
    "    def test(self):\n",
    "        \n",
    "        predicts = self.model.predict(self.X_test)\n",
    "        self.results['model'] = self.model\n",
    "        self.results['model_score'] = self.model.score(self.X_train, self.y_train)\n",
    "        self.results['cross_val_score'] = self.cv_scores()\n",
    "        self.results['predictions'] = predicts\n",
    "        self.results['mse'] = mean_squared_error(self.y_test, predicts)\n",
    "        self.results['rmse'] = np.sqrt(mean_squared_error(self.y_test, predicts))\n",
    "        self.results['explained_var_score'] = explained_variance_score(self.y_test, predicts)\n",
    "        \n",
    "        return self.results\n",
    "    \n",
    "    def print_results(self):\n",
    "        for k, v in self.results.items():\n",
    "            if k != 'predictions':\n",
    "                print('|', k + ':', v)\n",
    "                print('|' + '-'*45)\n",
    "        \n",
    "    def train(self, auto_test=False):\n",
    "        if auto_test:\n",
    "            self.model.fit(self.X_train, self.y_train)\n",
    "            self.test()\n",
    "        else:\n",
    "            return self.model.fit(self.X_train, self.y_train)\n",
    "        \n",
    "    def cv_scores(self, *args, **kwargs):\n",
    "        cv_score = cross_val_score(self.model, self.X, self.y, **kwargs)\n",
    "        return cv_score.mean()"
   ]
  },
  {
   "cell_type": "markdown",
   "metadata": {},
   "source": [
    "### Linear Regression"
   ]
  },
  {
   "cell_type": "code",
   "execution_count": 10,
   "metadata": {},
   "outputs": [],
   "source": [
    "linear_regression = MLpipeline(X, y, LinearRegression, True)"
   ]
  },
  {
   "cell_type": "code",
   "execution_count": 11,
   "metadata": {},
   "outputs": [
    {
     "name": "stdout",
     "output_type": "stream",
     "text": [
      "| model: LinearRegression()\n",
      "|---------------------------------------------\n",
      "| model_score: 0.4322033772120272\n",
      "|---------------------------------------------\n",
      "| cross_val_score: 0.2866478215721616\n",
      "|---------------------------------------------\n",
      "| mse: 19555.848866498058\n",
      "|---------------------------------------------\n",
      "| rmse: 139.8422284808779\n",
      "|---------------------------------------------\n",
      "| explained_var_score: 0.42520728571893196\n",
      "|---------------------------------------------\n"
     ]
    }
   ],
   "source": [
    "linear_regression.print_results()"
   ]
  },
  {
   "cell_type": "markdown",
   "metadata": {},
   "source": [
    "### Decision Tree Regression"
   ]
  },
  {
   "cell_type": "code",
   "execution_count": 12,
   "metadata": {},
   "outputs": [],
   "source": [
    "sample_leaf = 12\n",
    "decision_tree = MLpipeline(X, y, DecisionTreeRegressor, auto=True,\n",
    "                           min_samples_leaf=sample_leaf, random_state=5)"
   ]
  },
  {
   "cell_type": "code",
   "execution_count": 13,
   "metadata": {},
   "outputs": [
    {
     "name": "stdout",
     "output_type": "stream",
     "text": [
      "| model: DecisionTreeRegressor(min_samples_leaf=12, random_state=5)\n",
      "|---------------------------------------------\n",
      "| model_score: 0.9243580250021712\n",
      "|---------------------------------------------\n",
      "| cross_val_score: 0.6738011667509234\n",
      "|---------------------------------------------\n",
      "| mse: 3177.1268773024817\n",
      "|---------------------------------------------\n",
      "| rmse: 56.36600817250129\n",
      "|---------------------------------------------\n",
      "| explained_var_score: 0.9066209081112329\n",
      "|---------------------------------------------\n"
     ]
    }
   ],
   "source": [
    "decision_tree.print_results()"
   ]
  },
  {
   "cell_type": "markdown",
   "metadata": {},
   "source": [
    "### Random Forest Regression"
   ]
  },
  {
   "cell_type": "code",
   "execution_count": 14,
   "metadata": {},
   "outputs": [],
   "source": [
    "n_est = 100\n",
    "random_forest = MLpipeline(X, y, RandomForestRegressor, auto=True, n_estimators=n_est)"
   ]
  },
  {
   "cell_type": "code",
   "execution_count": 15,
   "metadata": {},
   "outputs": [
    {
     "name": "stdout",
     "output_type": "stream",
     "text": [
      "| model: RandomForestRegressor()\n",
      "|---------------------------------------------\n",
      "| model_score: 0.990643697861214\n",
      "|---------------------------------------------\n",
      "| cross_val_score: 0.8055908291588063\n",
      "|---------------------------------------------\n",
      "| mse: 2043.6620319609146\n",
      "|---------------------------------------------\n",
      "| rmse: 45.206880360857845\n",
      "|---------------------------------------------\n",
      "| explained_var_score: 0.9399717543080401\n",
      "|---------------------------------------------\n"
     ]
    }
   ],
   "source": [
    "random_forest.print_results()"
   ]
  },
  {
   "cell_type": "code",
   "execution_count": 17,
   "metadata": {},
   "outputs": [
    {
     "data": {
      "image/png": "[encoded data removed]",
      "text/plain": [
       "<Figure size 432x288 with 1 Axes>"
      ]
     },
     "metadata": {
      "needs_background": "light"
     },
     "output_type": "display_data"
    }
   ],
   "source": [
    "labels = ['random_forest', 'decision_tree', 'linear_regression']\n",
    "vals = [random_forest.results, decision_tree.results, linear_regression.results]\n",
    "metrics = ['model_score', 'explained_var_score', 'cross_val_score']\n",
    "value_list = []\n",
    "label_dict = {i: None for i in labels}\n",
    "for v, l in zip(vals, labels):\n",
    "    value_list = []\n",
    "    for m in metrics:\n",
    "        value_list.append(v[m])\n",
    "    label_dict[l] = value_list\n",
    "\n",
    "d = pd.DataFrame(label_dict).transpose()\n",
    "d = d.rename(columns={i: n for i, n in enumerate(metrics)})\n",
    "d.plot.barh(title='Error Metrics');"
   ]
  },
  {
   "cell_type": "markdown",
   "metadata": {},
   "source": [
    "## Bike Rental Predictions Results Recap\n",
    "The Random Forest and Decision Tree Models drastically outperformed the Linear Regression Model.  \n",
    "The Random Forest was a little more accurate than the Decision Tree--and there was less overfitting.  "
   ]
  },
  {
   "cell_type": "code",
   "execution_count": null,
   "metadata": {},
   "outputs": [],
   "source": []
  }
 ],
 "metadata": {
  "kernelspec": {
   "display_name": "Python 3",
   "language": "python",
   "name": "python3"
  },
  "language_info": {
   "codemirror_mode": {
    "name": "ipython",
    "version": 3
   },
   "file_extension": ".py",
   "mimetype": "text/x-python",
   "name": "python",
   "nbconvert_exporter": "python",
   "pygments_lexer": "ipython3",
   "version": "3.8.3"
  }
 },
 "nbformat": 4,
 "nbformat_minor": 4
}
