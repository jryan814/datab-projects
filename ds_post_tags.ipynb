{
 "cells": [
  {
   "cell_type": "markdown",
   "metadata": {},
   "source": [
    "# Data Science Topic Trends\n",
    "___Request___: Find the best data science topic(s) to create content/media about.  \n",
    "___Data source___: The data is from the [Data Science Stack Exchange Data Explorer](http://data.stackexchange.com/datascience).  \n",
    "___Additional info___: The time range on the dataset is from 01/01/2019 through 02/06/2021.  \n",
    "Here is the SQL query for the data:\n",
    "```\n",
    "SELECT Id,\n",
    "       CreationDate,\n",
    "       Score,\n",
    "       ViewCount,\n",
    "       Tags,\n",
    "       AnswerCount,\n",
    "       FavoriteCount\n",
    "FROM posts\n",
    "WHERE CreationDate > '2019-01-01';\n",
    "```\n",
    "The primary avenue for investigation is through the Tags and Views of each post."
   ]
  },
  {
   "cell_type": "code",
   "execution_count": 1,
   "metadata": {},
   "outputs": [],
   "source": [
    "import pandas as pd\n",
    "import matplotlib.pyplot as plt\n",
    "import seaborn as sns\n",
    "import numpy as np\n",
    "import datetime as dt\n",
    "%matplotlib inline\n",
    "qs = pd.read_csv('2019_questions.csv', parse_dates=['CreationDate'])\n",
    "qas = pd.read_csv('QandAs_2019.csv', parse_dates=['CreationDate'])"
   ]
  },
  {
   "cell_type": "code",
   "execution_count": 2,
   "metadata": {},
   "outputs": [
    {
     "name": "stdout",
     "output_type": "stream",
     "text": [
      "<class 'pandas.core.frame.DataFrame'>\n",
      "RangeIndex: 8839 entries, 0 to 8838\n",
      "Data columns (total 7 columns):\n",
      " #   Column         Non-Null Count  Dtype         \n",
      "---  ------         --------------  -----         \n",
      " 0   Id             8839 non-null   int64         \n",
      " 1   CreationDate   8839 non-null   datetime64[ns]\n",
      " 2   Score          8839 non-null   int64         \n",
      " 3   ViewCount      8839 non-null   int64         \n",
      " 4   Tags           8839 non-null   object        \n",
      " 5   AnswerCount    8839 non-null   int64         \n",
      " 6   FavoriteCount  1407 non-null   float64       \n",
      "dtypes: datetime64[ns](1), float64(1), int64(4), object(1)\n",
      "memory usage: 483.5+ KB\n"
     ]
    }
   ],
   "source": [
    "qs.info()"
   ]
  },
  {
   "cell_type": "code",
   "execution_count": 3,
   "metadata": {},
   "outputs": [],
   "source": [
    "qs['Tags'] = qs['Tags'].str.replace('<','').str.replace('>', ',').str.rstrip(',')\n",
    "qs['Tags'] = qs['Tags'].str.split(',')\n",
    "\n",
    "qas['Tags'] = qas['Tags'].str.replace('<','').str.replace('>', ',').str.rstrip(',')"
   ]
  },
  {
   "cell_type": "code",
   "execution_count": 4,
   "metadata": {},
   "outputs": [
    {
     "data": {
      "text/html": [
       "<div>\n",
       "<style scoped>\n",
       "    .dataframe tbody tr th:only-of-type {\n",
       "        vertical-align: middle;\n",
       "    }\n",
       "\n",
       "    .dataframe tbody tr th {\n",
       "        vertical-align: top;\n",
       "    }\n",
       "\n",
       "    .dataframe thead th {\n",
       "        text-align: right;\n",
       "    }\n",
       "</style>\n",
       "<table border=\"1\" class=\"dataframe\">\n",
       "  <thead>\n",
       "    <tr style=\"text-align: right;\">\n",
       "      <th></th>\n",
       "      <th>Id</th>\n",
       "      <th>CreationDate</th>\n",
       "      <th>Score</th>\n",
       "      <th>ViewCount</th>\n",
       "      <th>Tags</th>\n",
       "      <th>AnswerCount</th>\n",
       "      <th>FavoriteCount</th>\n",
       "    </tr>\n",
       "  </thead>\n",
       "  <tbody>\n",
       "    <tr>\n",
       "      <th>0</th>\n",
       "      <td>44419</td>\n",
       "      <td>2019-01-23 09:21:13</td>\n",
       "      <td>1</td>\n",
       "      <td>21</td>\n",
       "      <td>[machine-learning, data-mining]</td>\n",
       "      <td>0</td>\n",
       "      <td>NaN</td>\n",
       "    </tr>\n",
       "    <tr>\n",
       "      <th>1</th>\n",
       "      <td>44420</td>\n",
       "      <td>2019-01-23 09:34:01</td>\n",
       "      <td>0</td>\n",
       "      <td>25</td>\n",
       "      <td>[machine-learning, regression, linear-regressi...</td>\n",
       "      <td>0</td>\n",
       "      <td>NaN</td>\n",
       "    </tr>\n",
       "    <tr>\n",
       "      <th>2</th>\n",
       "      <td>44423</td>\n",
       "      <td>2019-01-23 09:58:41</td>\n",
       "      <td>2</td>\n",
       "      <td>1651</td>\n",
       "      <td>[python, time-series, forecast, forecasting]</td>\n",
       "      <td>0</td>\n",
       "      <td>NaN</td>\n",
       "    </tr>\n",
       "    <tr>\n",
       "      <th>3</th>\n",
       "      <td>44427</td>\n",
       "      <td>2019-01-23 10:57:09</td>\n",
       "      <td>0</td>\n",
       "      <td>55</td>\n",
       "      <td>[machine-learning, scikit-learn, pca]</td>\n",
       "      <td>1</td>\n",
       "      <td>NaN</td>\n",
       "    </tr>\n",
       "    <tr>\n",
       "      <th>4</th>\n",
       "      <td>44428</td>\n",
       "      <td>2019-01-23 11:02:15</td>\n",
       "      <td>0</td>\n",
       "      <td>19</td>\n",
       "      <td>[dataset, bigdata, data, speech-to-text]</td>\n",
       "      <td>0</td>\n",
       "      <td>NaN</td>\n",
       "    </tr>\n",
       "  </tbody>\n",
       "</table>\n",
       "</div>"
      ],
      "text/plain": [
       "      Id        CreationDate  Score  ViewCount  \\\n",
       "0  44419 2019-01-23 09:21:13      1         21   \n",
       "1  44420 2019-01-23 09:34:01      0         25   \n",
       "2  44423 2019-01-23 09:58:41      2       1651   \n",
       "3  44427 2019-01-23 10:57:09      0         55   \n",
       "4  44428 2019-01-23 11:02:15      0         19   \n",
       "\n",
       "                                                Tags  AnswerCount  \\\n",
       "0                    [machine-learning, data-mining]            0   \n",
       "1  [machine-learning, regression, linear-regressi...            0   \n",
       "2       [python, time-series, forecast, forecasting]            0   \n",
       "3              [machine-learning, scikit-learn, pca]            1   \n",
       "4           [dataset, bigdata, data, speech-to-text]            0   \n",
       "\n",
       "   FavoriteCount  \n",
       "0            NaN  \n",
       "1            NaN  \n",
       "2            NaN  \n",
       "3            NaN  \n",
       "4            NaN  "
      ]
     },
     "execution_count": 4,
     "metadata": {},
     "output_type": "execute_result"
    }
   ],
   "source": [
    "qs.head()"
   ]
  },
  {
   "cell_type": "code",
   "execution_count": 5,
   "metadata": {},
   "outputs": [
    {
     "data": {
      "text/html": [
       "<div>\n",
       "<style scoped>\n",
       "    .dataframe tbody tr th:only-of-type {\n",
       "        vertical-align: middle;\n",
       "    }\n",
       "\n",
       "    .dataframe tbody tr th {\n",
       "        vertical-align: top;\n",
       "    }\n",
       "\n",
       "    .dataframe thead th {\n",
       "        text-align: right;\n",
       "    }\n",
       "</style>\n",
       "<table border=\"1\" class=\"dataframe\">\n",
       "  <thead>\n",
       "    <tr style=\"text-align: right;\">\n",
       "      <th></th>\n",
       "      <th>Id</th>\n",
       "      <th>CreationDate</th>\n",
       "      <th>Score</th>\n",
       "      <th>ViewCount</th>\n",
       "      <th>Tags</th>\n",
       "      <th>AnswerCount</th>\n",
       "      <th>FavoriteCount</th>\n",
       "    </tr>\n",
       "  </thead>\n",
       "  <tbody>\n",
       "    <tr>\n",
       "      <th>0</th>\n",
       "      <td>55644</td>\n",
       "      <td>2019-07-14 13:51:15</td>\n",
       "      <td>1</td>\n",
       "      <td>NaN</td>\n",
       "      <td>NaN</td>\n",
       "      <td>NaN</td>\n",
       "      <td>NaN</td>\n",
       "    </tr>\n",
       "    <tr>\n",
       "      <th>1</th>\n",
       "      <td>55645</td>\n",
       "      <td>2019-07-14 14:05:51</td>\n",
       "      <td>0</td>\n",
       "      <td>124.0</td>\n",
       "      <td>[python, logistic-regression]</td>\n",
       "      <td>0.0</td>\n",
       "      <td>1.0</td>\n",
       "    </tr>\n",
       "    <tr>\n",
       "      <th>2</th>\n",
       "      <td>55646</td>\n",
       "      <td>2019-07-14 14:06:13</td>\n",
       "      <td>0</td>\n",
       "      <td>27.0</td>\n",
       "      <td>[machine-learning, multiclass-classification, ...</td>\n",
       "      <td>0.0</td>\n",
       "      <td>NaN</td>\n",
       "    </tr>\n",
       "    <tr>\n",
       "      <th>3</th>\n",
       "      <td>55647</td>\n",
       "      <td>2019-07-14 14:37:51</td>\n",
       "      <td>6</td>\n",
       "      <td>907.0</td>\n",
       "      <td>[machine-learning, neural-network, deep-learni...</td>\n",
       "      <td>1.0</td>\n",
       "      <td>1.0</td>\n",
       "    </tr>\n",
       "    <tr>\n",
       "      <th>4</th>\n",
       "      <td>55648</td>\n",
       "      <td>2019-07-14 14:43:53</td>\n",
       "      <td>3</td>\n",
       "      <td>1533.0</td>\n",
       "      <td>[machine-learning, python, feature-engineering...</td>\n",
       "      <td>1.0</td>\n",
       "      <td>2.0</td>\n",
       "    </tr>\n",
       "  </tbody>\n",
       "</table>\n",
       "</div>"
      ],
      "text/plain": [
       "      Id        CreationDate  Score  ViewCount  \\\n",
       "0  55644 2019-07-14 13:51:15      1        NaN   \n",
       "1  55645 2019-07-14 14:05:51      0      124.0   \n",
       "2  55646 2019-07-14 14:06:13      0       27.0   \n",
       "3  55647 2019-07-14 14:37:51      6      907.0   \n",
       "4  55648 2019-07-14 14:43:53      3     1533.0   \n",
       "\n",
       "                                                Tags  AnswerCount  \\\n",
       "0                                                NaN          NaN   \n",
       "1                      [python, logistic-regression]          0.0   \n",
       "2  [machine-learning, multiclass-classification, ...          0.0   \n",
       "3  [machine-learning, neural-network, deep-learni...          1.0   \n",
       "4  [machine-learning, python, feature-engineering...          1.0   \n",
       "\n",
       "   FavoriteCount  \n",
       "0            NaN  \n",
       "1            1.0  \n",
       "2            NaN  \n",
       "3            1.0  \n",
       "4            2.0  "
      ]
     },
     "execution_count": 5,
     "metadata": {},
     "output_type": "execute_result"
    }
   ],
   "source": [
    "qas['Tags'] = qas['Tags'].str.split(',')\n",
    "qas.head()"
   ]
  },
  {
   "cell_type": "code",
   "execution_count": 6,
   "metadata": {},
   "outputs": [],
   "source": [
    "tag_counts = dict()\n",
    "def count_tags(tag_list):\n",
    "    if isinstance(tag_list, float):\n",
    "        return\n",
    "    for tag in tag_list:\n",
    "        if tag in tag_counts:\n",
    "            tag_counts[tag] += 1\n",
    "        else:\n",
    "            tag_counts[tag] = 1\n",
    "            \n",
    "qas['Tags'].apply(count_tags)\n",
    "tag_counts = pd.DataFrame.from_dict(tag_counts, orient='index')\n",
    "tag_counts.rename(columns={0:'tag_count_qas'}, inplace=True)\n",
    "tag_counts = tag_counts.sort_values('tag_count_qas')\n",
    "#tag_counts['rank'] = tag_counts['tag_count_qas'].rank(ascending=False)\n",
    "tag_qas_20 = tag_counts.tail(20)"
   ]
  },
  {
   "cell_type": "code",
   "execution_count": 7,
   "metadata": {},
   "outputs": [
    {
     "data": {
      "text/html": [
       "<div>\n",
       "<style scoped>\n",
       "    .dataframe tbody tr th:only-of-type {\n",
       "        vertical-align: middle;\n",
       "    }\n",
       "\n",
       "    .dataframe tbody tr th {\n",
       "        vertical-align: top;\n",
       "    }\n",
       "\n",
       "    .dataframe thead th {\n",
       "        text-align: right;\n",
       "    }\n",
       "</style>\n",
       "<table border=\"1\" class=\"dataframe\">\n",
       "  <thead>\n",
       "    <tr style=\"text-align: right;\">\n",
       "      <th></th>\n",
       "      <th>tag_count_qas</th>\n",
       "    </tr>\n",
       "  </thead>\n",
       "  <tbody>\n",
       "    <tr>\n",
       "      <th>feature-selection</th>\n",
       "      <td>384</td>\n",
       "    </tr>\n",
       "    <tr>\n",
       "      <th>r</th>\n",
       "      <td>436</td>\n",
       "    </tr>\n",
       "    <tr>\n",
       "      <th>predictive-modeling</th>\n",
       "      <td>436</td>\n",
       "    </tr>\n",
       "    <tr>\n",
       "      <th>statistics</th>\n",
       "      <td>453</td>\n",
       "    </tr>\n",
       "    <tr>\n",
       "      <th>clustering</th>\n",
       "      <td>505</td>\n",
       "    </tr>\n",
       "    <tr>\n",
       "      <th>dataset</th>\n",
       "      <td>596</td>\n",
       "    </tr>\n",
       "    <tr>\n",
       "      <th>pandas</th>\n",
       "      <td>621</td>\n",
       "    </tr>\n",
       "    <tr>\n",
       "      <th>lstm</th>\n",
       "      <td>631</td>\n",
       "    </tr>\n",
       "    <tr>\n",
       "      <th>regression</th>\n",
       "      <td>657</td>\n",
       "    </tr>\n",
       "    <tr>\n",
       "      <th>time-series</th>\n",
       "      <td>773</td>\n",
       "    </tr>\n",
       "    <tr>\n",
       "      <th>cnn</th>\n",
       "      <td>775</td>\n",
       "    </tr>\n",
       "    <tr>\n",
       "      <th>nlp</th>\n",
       "      <td>969</td>\n",
       "    </tr>\n",
       "    <tr>\n",
       "      <th>scikit-learn</th>\n",
       "      <td>999</td>\n",
       "    </tr>\n",
       "    <tr>\n",
       "      <th>tensorflow</th>\n",
       "      <td>1054</td>\n",
       "    </tr>\n",
       "    <tr>\n",
       "      <th>classification</th>\n",
       "      <td>1275</td>\n",
       "    </tr>\n",
       "    <tr>\n",
       "      <th>keras</th>\n",
       "      <td>1457</td>\n",
       "    </tr>\n",
       "    <tr>\n",
       "      <th>neural-network</th>\n",
       "      <td>1756</td>\n",
       "    </tr>\n",
       "    <tr>\n",
       "      <th>deep-learning</th>\n",
       "      <td>2074</td>\n",
       "    </tr>\n",
       "    <tr>\n",
       "      <th>python</th>\n",
       "      <td>3011</td>\n",
       "    </tr>\n",
       "    <tr>\n",
       "      <th>machine-learning</th>\n",
       "      <td>4542</td>\n",
       "    </tr>\n",
       "  </tbody>\n",
       "</table>\n",
       "</div>"
      ],
      "text/plain": [
       "                     tag_count_qas\n",
       "feature-selection              384\n",
       "r                              436\n",
       "predictive-modeling            436\n",
       "statistics                     453\n",
       "clustering                     505\n",
       "dataset                        596\n",
       "pandas                         621\n",
       "lstm                           631\n",
       "regression                     657\n",
       "time-series                    773\n",
       "cnn                            775\n",
       "nlp                            969\n",
       "scikit-learn                   999\n",
       "tensorflow                    1054\n",
       "classification                1275\n",
       "keras                         1457\n",
       "neural-network                1756\n",
       "deep-learning                 2074\n",
       "python                        3011\n",
       "machine-learning              4542"
      ]
     },
     "execution_count": 7,
     "metadata": {},
     "output_type": "execute_result"
    }
   ],
   "source": [
    "tag_counts.tail(20)"
   ]
  },
  {
   "cell_type": "code",
   "execution_count": 8,
   "metadata": {},
   "outputs": [],
   "source": [
    "tag_count2 = dict()\n",
    "def count_tags(tag_list):\n",
    "    if isinstance(tag_list, float):\n",
    "        return\n",
    "    for tag in tag_list:\n",
    "        if tag in tag_count2:\n",
    "            tag_count2[tag] += 1\n",
    "        else:\n",
    "            tag_count2[tag] = 1\n",
    "            \n",
    "qs['Tags'].apply(count_tags)\n",
    "tag_counts_qs = pd.DataFrame.from_dict(tag_count2, orient='index')\n",
    "tag_counts_qs.rename(columns={0:'tag_count_qs'}, inplace=True)\n",
    "tag_counts_qs = tag_counts_qs.sort_values('tag_count_qs')\n",
    "#tag_counts_qs['rank'] = tag_counts_qs['tag_count_qs'].rank(ascending=False)\n",
    "tag_qs_20 = tag_counts_qs.tail(20)"
   ]
  },
  {
   "cell_type": "code",
   "execution_count": 9,
   "metadata": {},
   "outputs": [
    {
     "data": {
      "text/html": [
       "<div>\n",
       "<style scoped>\n",
       "    .dataframe tbody tr th:only-of-type {\n",
       "        vertical-align: middle;\n",
       "    }\n",
       "\n",
       "    .dataframe tbody tr th {\n",
       "        vertical-align: top;\n",
       "    }\n",
       "\n",
       "    .dataframe thead th {\n",
       "        text-align: right;\n",
       "    }\n",
       "</style>\n",
       "<table border=\"1\" class=\"dataframe\">\n",
       "  <thead>\n",
       "    <tr style=\"text-align: right;\">\n",
       "      <th></th>\n",
       "      <th>tag_count_qs</th>\n",
       "    </tr>\n",
       "  </thead>\n",
       "  <tbody>\n",
       "    <tr>\n",
       "      <th>machine-learning-model</th>\n",
       "      <td>224</td>\n",
       "    </tr>\n",
       "    <tr>\n",
       "      <th>statistics</th>\n",
       "      <td>234</td>\n",
       "    </tr>\n",
       "    <tr>\n",
       "      <th>clustering</th>\n",
       "      <td>257</td>\n",
       "    </tr>\n",
       "    <tr>\n",
       "      <th>predictive-modeling</th>\n",
       "      <td>265</td>\n",
       "    </tr>\n",
       "    <tr>\n",
       "      <th>r</th>\n",
       "      <td>268</td>\n",
       "    </tr>\n",
       "    <tr>\n",
       "      <th>dataset</th>\n",
       "      <td>340</td>\n",
       "    </tr>\n",
       "    <tr>\n",
       "      <th>regression</th>\n",
       "      <td>347</td>\n",
       "    </tr>\n",
       "    <tr>\n",
       "      <th>pandas</th>\n",
       "      <td>354</td>\n",
       "    </tr>\n",
       "    <tr>\n",
       "      <th>lstm</th>\n",
       "      <td>402</td>\n",
       "    </tr>\n",
       "    <tr>\n",
       "      <th>time-series</th>\n",
       "      <td>466</td>\n",
       "    </tr>\n",
       "    <tr>\n",
       "      <th>cnn</th>\n",
       "      <td>489</td>\n",
       "    </tr>\n",
       "    <tr>\n",
       "      <th>nlp</th>\n",
       "      <td>493</td>\n",
       "    </tr>\n",
       "    <tr>\n",
       "      <th>scikit-learn</th>\n",
       "      <td>540</td>\n",
       "    </tr>\n",
       "    <tr>\n",
       "      <th>tensorflow</th>\n",
       "      <td>584</td>\n",
       "    </tr>\n",
       "    <tr>\n",
       "      <th>classification</th>\n",
       "      <td>685</td>\n",
       "    </tr>\n",
       "    <tr>\n",
       "      <th>keras</th>\n",
       "      <td>935</td>\n",
       "    </tr>\n",
       "    <tr>\n",
       "      <th>neural-network</th>\n",
       "      <td>1055</td>\n",
       "    </tr>\n",
       "    <tr>\n",
       "      <th>deep-learning</th>\n",
       "      <td>1220</td>\n",
       "    </tr>\n",
       "    <tr>\n",
       "      <th>python</th>\n",
       "      <td>1814</td>\n",
       "    </tr>\n",
       "    <tr>\n",
       "      <th>machine-learning</th>\n",
       "      <td>2693</td>\n",
       "    </tr>\n",
       "  </tbody>\n",
       "</table>\n",
       "</div>"
      ],
      "text/plain": [
       "                        tag_count_qs\n",
       "machine-learning-model           224\n",
       "statistics                       234\n",
       "clustering                       257\n",
       "predictive-modeling              265\n",
       "r                                268\n",
       "dataset                          340\n",
       "regression                       347\n",
       "pandas                           354\n",
       "lstm                             402\n",
       "time-series                      466\n",
       "cnn                              489\n",
       "nlp                              493\n",
       "scikit-learn                     540\n",
       "tensorflow                       584\n",
       "classification                   685\n",
       "keras                            935\n",
       "neural-network                  1055\n",
       "deep-learning                   1220\n",
       "python                          1814\n",
       "machine-learning                2693"
      ]
     },
     "execution_count": 9,
     "metadata": {},
     "output_type": "execute_result"
    }
   ],
   "source": [
    "tag_counts_qs.tail(20)"
   ]
  },
  {
   "cell_type": "code",
   "execution_count": 10,
   "metadata": {},
   "outputs": [
    {
     "data": {
      "image/png": "[encoded data removed]",
      "text/plain": [
       "<Figure size 1728x720 with 2 Axes>"
      ]
     },
     "metadata": {
      "needs_background": "light"
     },
     "output_type": "display_data"
    }
   ],
   "source": [
    "fig, axes = plt.subplots(nrows=1, ncols=2)\n",
    "fig.set_size_inches((24,10))\n",
    "tag_qas_20.plot(kind='barh', ax=axes[0], subplots=True)\n",
    "tag_qs_20.plot(kind='barh', ax=axes[1], subplots=True);"
   ]
  },
  {
   "cell_type": "markdown",
   "metadata": {},
   "source": [
    "## 2019-2021 (Jan) vs only 2019\n",
    "The two graphs above show the top 15 tags based off of usage count (i.e. how many posts have the tag associated with the post). The top 11 haven't changed with the additional year, however beyond that there is some variation. Clearly machine-learning and python have a considerable lead above the rest. Now lets compare the tags to the number of times a post was viewed and see if there are any differences. For simplicity, we will just look at the larger dataset (spans 2019 through Jan. 2021)"
   ]
  },
  {
   "cell_type": "code",
   "execution_count": 11,
   "metadata": {},
   "outputs": [],
   "source": [
    "t_view_count = dict()\n",
    "for index, row in qas.iterrows():\n",
    "    if isinstance(row['Tags'], float):\n",
    "            continue\n",
    "    for tag in row['Tags']:\n",
    "        if tag in t_view_count:\n",
    "            t_view_count[tag] += row['ViewCount']\n",
    "        else:\n",
    "            t_view_count[tag] = row['ViewCount']\n",
    "        \n",
    "\n",
    "tag_views = pd.DataFrame.from_dict(t_view_count, orient='index')\n",
    "tag_views.rename(columns={0:'tag_view_counts'}, inplace=True)\n",
    "tag_views = tag_views.sort_values('tag_view_counts')\n",
    "tag_views_20 = tag_views.tail(20)"
   ]
  },
  {
   "cell_type": "code",
   "execution_count": 12,
   "metadata": {},
   "outputs": [
    {
     "data": {
      "text/html": [
       "<div>\n",
       "<style scoped>\n",
       "    .dataframe tbody tr th:only-of-type {\n",
       "        vertical-align: middle;\n",
       "    }\n",
       "\n",
       "    .dataframe tbody tr th {\n",
       "        vertical-align: top;\n",
       "    }\n",
       "\n",
       "    .dataframe thead th {\n",
       "        text-align: right;\n",
       "    }\n",
       "</style>\n",
       "<table border=\"1\" class=\"dataframe\">\n",
       "  <thead>\n",
       "    <tr style=\"text-align: right;\">\n",
       "      <th></th>\n",
       "      <th>view_counts</th>\n",
       "      <th>use_counts</th>\n",
       "      <th>view_rank</th>\n",
       "      <th>use_rank</th>\n",
       "    </tr>\n",
       "  </thead>\n",
       "  <tbody>\n",
       "    <tr>\n",
       "      <th>python</th>\n",
       "      <td>2140166.0</td>\n",
       "      <td>3011</td>\n",
       "      <td>1.0</td>\n",
       "      <td>2.0</td>\n",
       "    </tr>\n",
       "    <tr>\n",
       "      <th>machine-learning</th>\n",
       "      <td>1488588.0</td>\n",
       "      <td>4542</td>\n",
       "      <td>2.0</td>\n",
       "      <td>1.0</td>\n",
       "    </tr>\n",
       "    <tr>\n",
       "      <th>pandas</th>\n",
       "      <td>966243.0</td>\n",
       "      <td>621</td>\n",
       "      <td>3.0</td>\n",
       "      <td>14.0</td>\n",
       "    </tr>\n",
       "  </tbody>\n",
       "</table>\n",
       "</div>"
      ],
      "text/plain": [
       "                  view_counts  use_counts  view_rank  use_rank\n",
       "python              2140166.0        3011        1.0       2.0\n",
       "machine-learning    1488588.0        4542        2.0       1.0\n",
       "pandas               966243.0         621        3.0      14.0"
      ]
     },
     "execution_count": 12,
     "metadata": {},
     "output_type": "execute_result"
    }
   ],
   "source": [
    "combined = pd.merge(tag_views_20, tag_qas_20, how='right', left_index=True, right_index=True)\n",
    "combined.rename(columns={'tag_view_counts': 'view_counts', 'tag_count_qas': 'use_counts'}, inplace=True)\n",
    "combined = combined.sort_values('view_counts', ascending=False)\n",
    "combined['view_rank'] = combined['view_counts'].rank(ascending=False)\n",
    "combined['use_rank'] = combined['use_counts'].rank(ascending=False)\n",
    "combined = combined.dropna()\n",
    "combined.head(3)"
   ]
  },
  {
   "cell_type": "code",
   "execution_count": 13,
   "metadata": {},
   "outputs": [
    {
     "data": {
      "image/png": "[encoded data removed]",
      "text/plain": [
       "<Figure size 1728x720 with 2 Axes>"
      ]
     },
     "metadata": {
      "needs_background": "light"
     },
     "output_type": "display_data"
    }
   ],
   "source": [
    "norm_tag_count = ((tag_qas_20 - tag_qas_20.min()) / (tag_qas_20.max() - tag_qas_20.min()) * 100)\n",
    "norm_tag_view = ((tag_views_20 - tag_views_20.min()) / (tag_views_20.max() - tag_views_20.min()) * 100)\n",
    "\n",
    "fig, axes = plt.subplots(nrows=1, ncols=2)\n",
    "fig.set_size_inches((24,10))\n",
    "norm_tag_count.plot(kind='barh', ax=axes[0], subplots=True)\n",
    "norm_tag_view.plot(kind='barh', ax=axes[1], subplots=True);"
   ]
  },
  {
   "cell_type": "code",
   "execution_count": 14,
   "metadata": {},
   "outputs": [
    {
     "data": {
      "image/png": "[encoded data removed]",
      "text/plain": [
       "<Figure size 432x288 with 1 Axes>"
      ]
     },
     "metadata": {
      "needs_background": "light"
     },
     "output_type": "display_data"
    }
   ],
   "source": [
    "# split the 2 parts of the scoring equation to potentially allow me to figure out what to do with the NaN vals\n",
    "tag_score_count_half = (0.5 * norm_tag_count['tag_count_qas'])\n",
    "tag_score_view_half = (0.5 * norm_tag_view['tag_view_counts'])\n",
    "tag_score2 = tag_score_count_half + tag_score_view_half\n",
    "# However, after reflecting on the comment above I realized it wouldn't have any intrinsic value on our analysis\n",
    "tag_score2 = tag_score2.dropna().sort_values()\n",
    "\n",
    "tag_score_plot = tag_score2.plot(kind='barh')\n",
    "tag_score_plot.set(title='Normalized Scores for Tags', xlabel='Score', ylabel='tag');"
   ]
  },
  {
   "cell_type": "markdown",
   "metadata": {},
   "source": [
    "# Info on the 3 graphs above\n",
    "In order to compare the number of times a tag was attributed to a post (any variables with `*count*`) with the number of times a post with that a post with that tag was viewed (any variables with `*view*`) the 2 values had to be normalized. Essentially the number of views is so much higher it is impossible to create a balanced scoring system (as the use counts would have no impact on the score).  \n",
    "  \n",
    "With the normalized values we then can calculate a basic score based off the equation:\n",
    "```\n",
    "score = (1/2 * counts) + (1/2 * views)\n",
    "# resulting in half of the total score coming from each element (counts, and views)\n",
    "```\n",
    "As you can see machine-learning & python are by far the most common tag used and the most common viewed. Being that those are relatively commonplace in the data science world this doesn't come with much surprise. Machine-learning is a general topic and python is a main coding language for implementing that topic.  \n",
    "  \n",
    "Needless to say the best topics to create content for will certainly involve one or both of those. Branching from that are the 3rd and 4th ranked tags `deep-learning` and `keras` which ironically align as sub-components of the top 2 tags. `deep-learning :: machine-learning as keras :: python` (not exactly but there is a commonality between the 2 sets). Lets look and see if the popularity of any of these are is rising or falling.  \n",
    "### Tags popularity over time"
   ]
  },
  {
   "cell_type": "code",
   "execution_count": 21,
   "metadata": {},
   "outputs": [],
   "source": [
    "import datetime as dt\n",
    "\n",
    "def get_monthyear(post_date):\n",
    "    month = int(post_date[5:7])\n",
    "    year = int(post_date[:4])*100\n",
    "    return month + year\n",
    "trends = qas.copy()\n",
    "trends['month'] = trends['CreationDate'].astype(str).apply(get_monthyear)\n",
    "# creates a month column with the format of YYYYmm as an integer"
   ]
  },
  {
   "cell_type": "code",
   "execution_count": 22,
   "metadata": {},
   "outputs": [],
   "source": [
    "trends = trends.drop(columns=['AnswerCount', 'FavoriteCount', 'Score'])  # dropping the columns we don't really need"
   ]
  },
  {
   "cell_type": "code",
   "execution_count": 20,
   "metadata": {},
   "outputs": [
    {
     "data": {
      "text/plain": [
       "<matplotlib.legend.Legend at 0x201be6911f0>"
      ]
     },
     "execution_count": 20,
     "metadata": {},
     "output_type": "execute_result"
    },
    {
     "data": {
      "image/png": "[encoded data removed]",
      "text/plain": [
       "<Figure size 864x432 with 1 Axes>"
      ]
     },
     "metadata": {
      "needs_background": "light"
     },
     "output_type": "display_data"
    }
   ],
   "source": [
    "# Lets count the tags, calculate the percentage of total posts, and graph the results\n",
    "trends['Tags'] = trends['Tags'].dropna()\n",
    "def dl_counts(tags):\n",
    "    dl_tags = ['deep-learning', 'kera', 'cnn', 'neural-network', 'scikit-learn', 'tensorflow']\n",
    "    if isinstance(tags, list):\n",
    "        for tag in tags:\n",
    "            if tag in dl_tags:\n",
    "                return 1\n",
    "    return 0\n",
    "\n",
    "trends['deep_learning'] = trends['Tags'].apply(dl_counts)\n",
    "monthly = trends.groupby('month').agg({'deep_learning': ['sum', 'size']})\n",
    "monthly.columns = ['DeepLearning', 'TotalQuestions']\n",
    "monthly.reset_index(inplace=True)\n",
    "monthly['PercentOfTotal'] = round((monthly['DeepLearning'] / monthly['TotalQuestions'])*100, 1)\n",
    "\n",
    "ax1 = monthly.plot(x='month', y='PercentOfTotal', kind='bar', color='orange', figsize=(12,6))\n",
    "\n",
    "for idx, t in monthly['PercentOfTotal'].iteritems():\n",
    "    ax1.text(idx, t, str(t), ha=\"center\", va=\"bottom\")\n",
    "handles1, labels1 = ax1.get_legend_handles_labels()\n",
    "ax1.legend(handles=handles1,\n",
    "           labels=labels1,\n",
    "           loc=\"upper left\", prop={\"size\": 12})"
   ]
  },
  {
   "cell_type": "markdown",
   "metadata": {},
   "source": [
    "# Final Result...Deep Learning\n",
    "It appears that deep learning is the most common subtopic that doesn't appear to be just a fad. Ignoring 2/2021 (only 6 days are accounted for), deep learning related topics do not appear to be moving out of the 15-20% range of total posts on Stack Exchange Data Science. Which means it isn't just a passing fad.  \n",
    "As we found from earlier machine-learning and python are the top 2 so creating content related to deep learning with a heavy python focus would greatly serve the data science community."
   ]
  }
 ],
 "metadata": {
  "kernelspec": {
   "display_name": "Python 3",
   "language": "python",
   "name": "python3"
  },
  "language_info": {
   "codemirror_mode": {
    "name": "ipython",
    "version": 3
   },
   "file_extension": ".py",
   "mimetype": "text/x-python",
   "name": "python",
   "nbconvert_exporter": "python",
   "pygments_lexer": "ipython3",
   "version": "3.8.3"
  }
 },
 "nbformat": 4,
 "nbformat_minor": 4
}
